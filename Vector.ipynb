{
  "nbformat": 4,
  "nbformat_minor": 0,
  "metadata": {
    "colab": {
      "provenance": []
    },
    "kernelspec": {
      "name": "python3",
      "display_name": "Python 3"
    },
    "language_info": {
      "name": "python"
    }
  },
  "cells": [
    {
      "cell_type": "code",
      "execution_count": null,
      "metadata": {
        "id": "y0hEhpH4hfCl"
      },
      "outputs": [],
      "source": [
        "from sklearn.feature_extraction.text import CountVectorizer\n",
        "vect = CountVectorizer(binary = True)"
      ]
    },
    {
      "cell_type": "code",
      "source": [
        "corpus = [\"This latest move potentially casts a pall over journalism in the country. Two industry associations — the Editors Guild of India and Digipub, a group of news sites in India — have published strong statements arguing that the amendment could give arbitrary and discretionary power to the Indian government.\",\n",
        "          \"And they are right to be concerned. Within a few days of mooting the amendments, the Indian government contacted Twitter to take down posts linking to a BBC documentary critical of Prime Minister Narendra Modi and his role in the 2002 anti-Muslim pogrom. The government has reportedly invoked emergency powers under a related IT law. The new amendments can only strengthen the censors’ hand in these matters.\",\n",
        "          \"Like many democracies around the world, India is drowning under a tide of rising misinformation and outright dishonest political spin. Multiple organizations dedicated to fact-checking the skewed narratives and distortions have sprung up, and they are fighting a desperate battle. One prominent outfit, Alt News, recently reported that even the most reputable news outlets in the country ran dozens of inaccurate stories last year based on misleading and unsubstantiated claims. And when these false narratives are not shaping the news channels’ coverage, they become fodder for conspiracy-minded discussions on WhatsApp, Instagram and Facebook — platforms with deep penetration among communities where mainstream media has little to no reach.\",\n",
        "          \"The problem is that fake news is often weaponized by the government itself. One recent viral story on Indian social media claimed that Modi had gotten Russian President Vladimir Putin to halt the war in Ukraine in order to let Indian students exit the country. While the origin of the story might not be traceable to the government, Amit Shah, the government’s home minister, amplified this narrative in an interview, saying that both Ukraine and Russia had temporarily stopped the war at Modi’s behest. Fact-checkers quickly found statements from the External Affairs Ministry from earlier in the year contradicting these claims, showing that the government had in fact not been able to do much. But the damage was done. The misinformation had gone viral, and the facts of the episode are now openly contested in the public sphere.\",\n",
        "          \"Another fact-checking organization, Boom, reported that most of the false narratives permeating India’s public life were tied to Islamophobia, and that they were “shared with the intent of spreading demographic anxiety.” This is a political project: to disturb the delicate communal balance in India — to portray the 220 million Muslim minority as a threat to the larger Hindu population. Though stories about a supposed Christian conspiracy featuring opposition politicians Rahul Gandhi and Sonia Gandhi do at times crop up, some of the most viral stories warn about a supposed Muslim population explosion that would make Hindus a minority. Such outright fearmongering is often paired with bizarre allegations about the Taj Mahal and other Mughal and Muslim monuments in India — allegations that have purchase even with well-informed citizens. (Just recently, I was confronted by a man claiming to be an Ivy League graduate who demanded I account for the alleged presence of ancient Hindu temples that he said were discovered beneath Mecca in Saudi Arabia and the Taj Mahal in Agra.)\"\n",
        "          ]"
      ],
      "metadata": {
        "id": "jZYQbDeXjFrV"
      },
      "execution_count": null,
      "outputs": []
    },
    {
      "cell_type": "code",
      "source": [],
      "metadata": {
        "id": "g0ZbLHsipobV"
      },
      "execution_count": null,
      "outputs": []
    },
    {
      "cell_type": "code",
      "source": [
        "vect.fit(corpus)"
      ],
      "metadata": {
        "colab": {
          "base_uri": "https://localhost:8080/"
        },
        "id": "0LtM4I-_jfnM",
        "outputId": "7afe71b0-3c0a-44e5-cdc5-24b2b0192b05"
      },
      "execution_count": null,
      "outputs": [
        {
          "output_type": "execute_result",
          "data": {
            "text/plain": [
              "CountVectorizer(binary=True)"
            ]
          },
          "metadata": {},
          "execution_count": 22
        }
      ]
    },
    {
      "cell_type": "code",
      "source": [],
      "metadata": {
        "id": "gzv0lvldpsE6"
      },
      "execution_count": null,
      "outputs": []
    },
    {
      "cell_type": "code",
      "source": [
        "vocab = vect.vocabulary_"
      ],
      "metadata": {
        "id": "z6a1AaazjvUC"
      },
      "execution_count": null,
      "outputs": []
    },
    {
      "cell_type": "code",
      "source": [],
      "metadata": {
        "id": "oVTwhawpptJu"
      },
      "execution_count": null,
      "outputs": []
    },
    {
      "cell_type": "code",
      "source": [
        "for key in sorted(vocab.keys()):\n",
        "  print(\"{}:{}\". format(key, vocab[key]))"
      ],
      "metadata": {
        "colab": {
          "base_uri": "https://localhost:8080/"
        },
        "id": "2wncLUcPj1Nv",
        "outputId": "1231c2c0-1e28-44cc-bcf4-ba42a99c87f8"
      },
      "execution_count": null,
      "outputs": [
        {
          "output_type": "stream",
          "name": "stdout",
          "text": [
            "2002:0\n",
            "220:1\n",
            "able:2\n",
            "about:3\n",
            "account:4\n",
            "affairs:5\n",
            "agra:6\n",
            "allegations:7\n",
            "alleged:8\n",
            "alt:9\n",
            "amendment:10\n",
            "amendments:11\n",
            "amit:12\n",
            "among:13\n",
            "amplified:14\n",
            "an:15\n",
            "ancient:16\n",
            "and:17\n",
            "another:18\n",
            "anti:19\n",
            "anxiety:20\n",
            "arabia:21\n",
            "arbitrary:22\n",
            "are:23\n",
            "arguing:24\n",
            "around:25\n",
            "as:26\n",
            "associations:27\n",
            "at:28\n",
            "balance:29\n",
            "based:30\n",
            "battle:31\n",
            "bbc:32\n",
            "be:33\n",
            "become:34\n",
            "been:35\n",
            "behest:36\n",
            "beneath:37\n",
            "bizarre:38\n",
            "boom:39\n",
            "both:40\n",
            "but:41\n",
            "by:42\n",
            "can:43\n",
            "casts:44\n",
            "censors:45\n",
            "channels:46\n",
            "checkers:47\n",
            "checking:48\n",
            "christian:49\n",
            "citizens:50\n",
            "claimed:51\n",
            "claiming:52\n",
            "claims:53\n",
            "communal:54\n",
            "communities:55\n",
            "concerned:56\n",
            "confronted:57\n",
            "conspiracy:58\n",
            "contacted:59\n",
            "contested:60\n",
            "contradicting:61\n",
            "could:62\n",
            "country:63\n",
            "coverage:64\n",
            "critical:65\n",
            "crop:66\n",
            "damage:67\n",
            "days:68\n",
            "dedicated:69\n",
            "deep:70\n",
            "delicate:71\n",
            "demanded:72\n",
            "democracies:73\n",
            "demographic:74\n",
            "desperate:75\n",
            "digipub:76\n",
            "discovered:77\n",
            "discretionary:78\n",
            "discussions:79\n",
            "dishonest:80\n",
            "distortions:81\n",
            "disturb:82\n",
            "do:83\n",
            "documentary:84\n",
            "done:85\n",
            "down:86\n",
            "dozens:87\n",
            "drowning:88\n",
            "earlier:89\n",
            "editors:90\n",
            "emergency:91\n",
            "episode:92\n",
            "even:93\n",
            "exit:94\n",
            "explosion:95\n",
            "external:96\n",
            "facebook:97\n",
            "fact:98\n",
            "facts:99\n",
            "fake:100\n",
            "false:101\n",
            "fearmongering:102\n",
            "featuring:103\n",
            "few:104\n",
            "fighting:105\n",
            "fodder:106\n",
            "for:107\n",
            "found:108\n",
            "from:109\n",
            "gandhi:110\n",
            "give:111\n",
            "gone:112\n",
            "gotten:113\n",
            "government:114\n",
            "graduate:115\n",
            "group:116\n",
            "guild:117\n",
            "had:118\n",
            "halt:119\n",
            "hand:120\n",
            "has:121\n",
            "have:122\n",
            "he:123\n",
            "hindu:124\n",
            "hindus:125\n",
            "his:126\n",
            "home:127\n",
            "in:128\n",
            "inaccurate:129\n",
            "india:130\n",
            "indian:131\n",
            "industry:132\n",
            "informed:133\n",
            "instagram:134\n",
            "intent:135\n",
            "interview:136\n",
            "invoked:137\n",
            "is:138\n",
            "islamophobia:139\n",
            "it:140\n",
            "itself:141\n",
            "ivy:142\n",
            "journalism:143\n",
            "just:144\n",
            "larger:145\n",
            "last:146\n",
            "latest:147\n",
            "law:148\n",
            "league:149\n",
            "let:150\n",
            "life:151\n",
            "like:152\n",
            "linking:153\n",
            "little:154\n",
            "mahal:155\n",
            "mainstream:156\n",
            "make:157\n",
            "man:158\n",
            "many:159\n",
            "matters:160\n",
            "mecca:161\n",
            "media:162\n",
            "might:163\n",
            "million:164\n",
            "minded:165\n",
            "minister:166\n",
            "ministry:167\n",
            "minority:168\n",
            "misinformation:169\n",
            "misleading:170\n",
            "modi:171\n",
            "monuments:172\n",
            "mooting:173\n",
            "most:174\n",
            "move:175\n",
            "much:176\n",
            "mughal:177\n",
            "multiple:178\n",
            "muslim:179\n",
            "narendra:180\n",
            "narrative:181\n",
            "narratives:182\n",
            "new:183\n",
            "news:184\n",
            "no:185\n",
            "not:186\n",
            "now:187\n",
            "of:188\n",
            "often:189\n",
            "on:190\n",
            "one:191\n",
            "only:192\n",
            "openly:193\n",
            "opposition:194\n",
            "order:195\n",
            "organization:196\n",
            "organizations:197\n",
            "origin:198\n",
            "other:199\n",
            "outfit:200\n",
            "outlets:201\n",
            "outright:202\n",
            "over:203\n",
            "paired:204\n",
            "pall:205\n",
            "penetration:206\n",
            "permeating:207\n",
            "platforms:208\n",
            "pogrom:209\n",
            "political:210\n",
            "politicians:211\n",
            "population:212\n",
            "portray:213\n",
            "posts:214\n",
            "potentially:215\n",
            "power:216\n",
            "powers:217\n",
            "presence:218\n",
            "president:219\n",
            "prime:220\n",
            "problem:221\n",
            "project:222\n",
            "prominent:223\n",
            "public:224\n",
            "published:225\n",
            "purchase:226\n",
            "putin:227\n",
            "quickly:228\n",
            "rahul:229\n",
            "ran:230\n",
            "reach:231\n",
            "recent:232\n",
            "recently:233\n",
            "related:234\n",
            "reported:235\n",
            "reportedly:236\n",
            "reputable:237\n",
            "right:238\n",
            "rising:239\n",
            "role:240\n",
            "russia:241\n",
            "russian:242\n",
            "said:243\n",
            "saudi:244\n",
            "saying:245\n",
            "shah:246\n",
            "shaping:247\n",
            "shared:248\n",
            "showing:249\n",
            "sites:250\n",
            "skewed:251\n",
            "social:252\n",
            "some:253\n",
            "sonia:254\n",
            "sphere:255\n",
            "spin:256\n",
            "spreading:257\n",
            "sprung:258\n",
            "statements:259\n",
            "stopped:260\n",
            "stories:261\n",
            "story:262\n",
            "strengthen:263\n",
            "strong:264\n",
            "students:265\n",
            "such:266\n",
            "supposed:267\n",
            "taj:268\n",
            "take:269\n",
            "temples:270\n",
            "temporarily:271\n",
            "that:272\n",
            "the:273\n",
            "these:274\n",
            "they:275\n",
            "this:276\n",
            "though:277\n",
            "threat:278\n",
            "tide:279\n",
            "tied:280\n",
            "times:281\n",
            "to:282\n",
            "traceable:283\n",
            "twitter:284\n",
            "two:285\n",
            "ukraine:286\n",
            "under:287\n",
            "unsubstantiated:288\n",
            "up:289\n",
            "viral:290\n",
            "vladimir:291\n",
            "war:292\n",
            "warn:293\n",
            "was:294\n",
            "weaponized:295\n",
            "well:296\n",
            "were:297\n",
            "whatsapp:298\n",
            "when:299\n",
            "where:300\n",
            "while:301\n",
            "who:302\n",
            "with:303\n",
            "within:304\n",
            "world:305\n",
            "would:306\n",
            "year:307\n"
          ]
        }
      ]
    },
    {
      "cell_type": "code",
      "source": [],
      "metadata": {
        "id": "D-e5d-jBpuSA"
      },
      "execution_count": null,
      "outputs": []
    },
    {
      "cell_type": "code",
      "source": [
        "arr=(vect.transform([\"One of the most widespread narratives in this vein focuses on the so-called “love jihad” — a wild conspiracy theory that imagines Indian Muslim men luring Hindu women into marriage, only to dump, kill or otherwise discard them, as a form of religious collective punishment. A recent tragedy involved the alleged suicide of a prominent young Hindu TV actress. She was dating a Muslim man, and after scurrilous stories spread that she was a victim of “love jihad,” he was arrested and accused of this bizarre conspiracy. At least two state governments in India are now considering adopting laws intended to scrutinize interfaith marriages.\"]).toarray())"
      ],
      "metadata": {
        "id": "L785ESywkVom"
      },
      "execution_count": null,
      "outputs": []
    },
    {
      "cell_type": "code",
      "source": [
        "arr"
      ],
      "metadata": {
        "colab": {
          "base_uri": "https://localhost:8080/"
        },
        "id": "0Z_ig5kwp2O1",
        "outputId": "3c9740e5-b871-4a5b-f62f-b1f3029cd813"
      },
      "execution_count": null,
      "outputs": [
        {
          "output_type": "execute_result",
          "data": {
            "text/plain": [
              "array([[0, 0, 0, 0, 0, 0, 0, 0, 1, 0, 0, 0, 0, 0, 0, 0, 0, 1, 0, 0, 0, 0,\n",
              "        0, 1, 0, 0, 1, 0, 1, 0, 0, 0, 0, 0, 0, 0, 0, 0, 1, 0, 0, 0, 0, 0,\n",
              "        0, 0, 0, 0, 0, 0, 0, 0, 0, 0, 0, 0, 0, 0, 1, 0, 0, 0, 0, 0, 0, 0,\n",
              "        0, 0, 0, 0, 0, 0, 0, 0, 0, 0, 0, 0, 0, 0, 0, 0, 0, 0, 0, 0, 0, 0,\n",
              "        0, 0, 0, 0, 0, 0, 0, 0, 0, 0, 0, 0, 0, 0, 0, 0, 0, 0, 0, 0, 0, 0,\n",
              "        0, 0, 0, 0, 0, 0, 0, 0, 0, 0, 0, 0, 0, 1, 1, 0, 0, 0, 1, 0, 1, 1,\n",
              "        0, 0, 0, 0, 0, 0, 0, 0, 0, 0, 0, 0, 0, 0, 0, 0, 0, 0, 0, 0, 0, 0,\n",
              "        0, 0, 0, 0, 1, 0, 0, 0, 0, 0, 0, 0, 0, 0, 0, 0, 0, 0, 0, 0, 1, 0,\n",
              "        0, 0, 0, 1, 0, 0, 1, 0, 0, 0, 0, 1, 1, 0, 1, 1, 1, 0, 0, 0, 0, 0,\n",
              "        0, 0, 0, 0, 0, 0, 0, 0, 0, 0, 0, 0, 0, 0, 0, 0, 0, 0, 0, 0, 0, 0,\n",
              "        0, 0, 0, 1, 0, 0, 0, 0, 0, 0, 0, 0, 1, 0, 0, 0, 0, 0, 0, 0, 0, 0,\n",
              "        0, 0, 0, 0, 0, 0, 0, 0, 0, 0, 0, 0, 0, 0, 0, 0, 0, 0, 0, 1, 0, 0,\n",
              "        0, 0, 0, 0, 0, 0, 0, 0, 1, 1, 0, 0, 1, 0, 0, 0, 0, 0, 1, 0, 0, 1,\n",
              "        0, 0, 0, 0, 0, 0, 0, 0, 1, 0, 0, 0, 0, 0, 0, 0, 0, 0, 0, 0, 0, 0]])"
            ]
          },
          "metadata": {},
          "execution_count": 26
        }
      ]
    },
    {
      "cell_type": "code",
      "source": [],
      "metadata": {
        "id": "d6esjiLLp4uA"
      },
      "execution_count": null,
      "outputs": []
    },
    {
      "cell_type": "code",
      "source": [
        "from sklearn.metrics.pairwise import cosine_similarity \n",
        "similarity = cosine_similarity(vect.transform([\"The idea of a government being the final arbiter of what is true or false is disturbing in any context. In India’s case, where the government is all too frequently pursuing political goals through the weaponization of narratives, this new amendment is setting off alarm bells. Last year, Reporters Without Borders ranked India 150 out of 180 countries in their annual press freedom report. Laws such as these, even if they represent an incremental tightening of the noose, will undoubtedly have a large impact on Indian society. With a high stakes general election a year away, the amended law gives the ruling party even more latitude to misbehave — and entrench its power.\"]).toarray(), arr)\n"
      ],
      "metadata": {
        "id": "BaCOEXkdk6aG"
      },
      "execution_count": null,
      "outputs": []
    },
    {
      "cell_type": "code",
      "source": [],
      "metadata": {
        "id": "E7ERN-aeqED0"
      },
      "execution_count": null,
      "outputs": []
    },
    {
      "cell_type": "code",
      "source": [
        "print(similarity)"
      ],
      "metadata": {
        "colab": {
          "base_uri": "https://localhost:8080/"
        },
        "id": "Fyls1oj2lpHe",
        "outputId": "5405dbf7-6f23-4b92-8ffd-460c6441259f"
      },
      "execution_count": null,
      "outputs": [
        {
          "output_type": "stream",
          "name": "stdout",
          "text": [
            "[[0.37293493]]\n"
          ]
        }
      ]
    },
    {
      "cell_type": "code",
      "source": [],
      "metadata": {
        "id": "q9qhpNVMqFGg"
      },
      "execution_count": null,
      "outputs": []
    },
    {
      "cell_type": "code",
      "source": [],
      "metadata": {
        "id": "W2L5_5AIpBXb"
      },
      "execution_count": null,
      "outputs": []
    }
  ]
}