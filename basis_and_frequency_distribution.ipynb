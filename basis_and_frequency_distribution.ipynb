{
  "cells": [
    {
      "cell_type": "code",
      "execution_count": null,
      "id": "027b930c",
      "metadata": {
        "id": "027b930c",
        "outputId": "382e6c4b-84df-4bea-88f0-074e5918e1fc"
      },
      "outputs": [
        {
          "name": "stdout",
          "output_type": "stream",
          "text": [
            "*** Introductory Examples for the NLTK Book ***\n",
            "Loading text1, ..., text9 and sent1, ..., sent9\n",
            "Type the name of the text or sentence to view it.\n",
            "Type: 'texts()' or 'sents()' to list the materials.\n",
            "text1: Moby Dick by Herman Melville 1851\n",
            "text2: Sense and Sensibility by Jane Austen 1811\n",
            "text3: The Book of Genesis\n",
            "text4: Inaugural Address Corpus\n",
            "text5: Chat Corpus\n",
            "text6: Monty Python and the Holy Grail\n",
            "text7: Wall Street Journal\n",
            "text8: Personals Corpus\n",
            "text9: The Man Who Was Thursday by G . K . Chesterton 1908\n"
          ]
        }
      ],
      "source": [
        "from nltk.book import*"
      ]
    },
    {
      "cell_type": "code",
      "execution_count": null,
      "id": "3f415d9b",
      "metadata": {
        "id": "3f415d9b"
      },
      "outputs": [],
      "source": [
        "from nltk.corpus import brown"
      ]
    },
    {
      "cell_type": "code",
      "execution_count": null,
      "id": "d59bba8d",
      "metadata": {
        "id": "d59bba8d",
        "outputId": "0b6c63b0-fba8-411b-8c6b-2cb089616be3"
      },
      "outputs": [
        {
          "data": {
            "text/plain": [
              "['adventure',\n",
              " 'belles_lettres',\n",
              " 'editorial',\n",
              " 'fiction',\n",
              " 'government',\n",
              " 'hobbies',\n",
              " 'humor',\n",
              " 'learned',\n",
              " 'lore',\n",
              " 'mystery',\n",
              " 'news',\n",
              " 'religion',\n",
              " 'reviews',\n",
              " 'romance',\n",
              " 'science_fiction']"
            ]
          },
          "execution_count": 3,
          "metadata": {},
          "output_type": "execute_result"
        }
      ],
      "source": [
        "brown.categories()"
      ]
    },
    {
      "cell_type": "code",
      "execution_count": null,
      "id": "6fba0670",
      "metadata": {
        "id": "6fba0670",
        "outputId": "003eb5c1-630e-447c-b374-841f993d62bb"
      },
      "outputs": [
        {
          "data": {
            "text/plain": [
              "['The',\n",
              " 'Fulton',\n",
              " 'County',\n",
              " 'Grand',\n",
              " 'Jury',\n",
              " 'said',\n",
              " 'Friday',\n",
              " 'an',\n",
              " 'investigation',\n",
              " 'of',\n",
              " \"Atlanta's\",\n",
              " 'recent',\n",
              " 'primary',\n",
              " 'election',\n",
              " 'produced',\n",
              " '``',\n",
              " 'no',\n",
              " 'evidence',\n",
              " \"''\",\n",
              " 'that']"
            ]
          },
          "execution_count": 4,
          "metadata": {},
          "output_type": "execute_result"
        }
      ],
      "source": [
        "brown.words(categories='news') [:20]\n"
      ]
    },
    {
      "cell_type": "code",
      "execution_count": null,
      "id": "a338c784",
      "metadata": {
        "id": "a338c784",
        "outputId": "512d22e2-f6fb-4cd6-cce1-4ca0cdca9669"
      },
      "outputs": [
        {
          "data": {
            "text/plain": [
              "['Thirty-three',\n",
              " 'Scotty',\n",
              " 'did',\n",
              " 'not',\n",
              " 'go',\n",
              " 'back',\n",
              " 'to',\n",
              " 'school',\n",
              " '.',\n",
              " 'His']"
            ]
          },
          "execution_count": 5,
          "metadata": {},
          "output_type": "execute_result"
        }
      ],
      "source": [
        "brown.words(categories='fiction') [:10]\n"
      ]
    },
    {
      "cell_type": "code",
      "execution_count": null,
      "id": "16d17165",
      "metadata": {
        "id": "16d17165"
      },
      "outputs": [],
      "source": [
        "from nltk.corpus import inaugural"
      ]
    },
    {
      "cell_type": "code",
      "execution_count": null,
      "id": "8bc10fd0",
      "metadata": {
        "id": "8bc10fd0",
        "outputId": "19f8d731-921b-4b54-c8d6-ab1d840d2ed9"
      },
      "outputs": [
        {
          "data": {
            "text/plain": [
              "['1789-Washington.txt',\n",
              " '1793-Washington.txt',\n",
              " '1797-Adams.txt',\n",
              " '1801-Jefferson.txt',\n",
              " '1805-Jefferson.txt',\n",
              " '1809-Madison.txt',\n",
              " '1813-Madison.txt',\n",
              " '1817-Monroe.txt',\n",
              " '1821-Monroe.txt',\n",
              " '1825-Adams.txt',\n",
              " '1829-Jackson.txt',\n",
              " '1833-Jackson.txt',\n",
              " '1837-VanBuren.txt',\n",
              " '1841-Harrison.txt',\n",
              " '1845-Polk.txt',\n",
              " '1849-Taylor.txt',\n",
              " '1853-Pierce.txt',\n",
              " '1857-Buchanan.txt',\n",
              " '1861-Lincoln.txt',\n",
              " '1865-Lincoln.txt',\n",
              " '1869-Grant.txt',\n",
              " '1873-Grant.txt',\n",
              " '1877-Hayes.txt',\n",
              " '1881-Garfield.txt',\n",
              " '1885-Cleveland.txt',\n",
              " '1889-Harrison.txt',\n",
              " '1893-Cleveland.txt',\n",
              " '1897-McKinley.txt',\n",
              " '1901-McKinley.txt',\n",
              " '1905-Roosevelt.txt',\n",
              " '1909-Taft.txt',\n",
              " '1913-Wilson.txt',\n",
              " '1917-Wilson.txt',\n",
              " '1921-Harding.txt',\n",
              " '1925-Coolidge.txt',\n",
              " '1929-Hoover.txt',\n",
              " '1933-Roosevelt.txt',\n",
              " '1937-Roosevelt.txt',\n",
              " '1941-Roosevelt.txt',\n",
              " '1945-Roosevelt.txt',\n",
              " '1949-Truman.txt',\n",
              " '1953-Eisenhower.txt',\n",
              " '1957-Eisenhower.txt',\n",
              " '1961-Kennedy.txt',\n",
              " '1965-Johnson.txt',\n",
              " '1969-Nixon.txt',\n",
              " '1973-Nixon.txt',\n",
              " '1977-Carter.txt',\n",
              " '1981-Reagan.txt',\n",
              " '1985-Reagan.txt',\n",
              " '1989-Bush.txt',\n",
              " '1993-Clinton.txt',\n",
              " '1997-Clinton.txt',\n",
              " '2001-Bush.txt',\n",
              " '2005-Bush.txt',\n",
              " '2009-Obama.txt',\n",
              " '2013-Obama.txt',\n",
              " '2017-Trump.txt',\n",
              " '2021-Biden.txt']"
            ]
          },
          "execution_count": 8,
          "metadata": {},
          "output_type": "execute_result"
        }
      ],
      "source": [
        "inaugural.fileids()"
      ]
    },
    {
      "cell_type": "code",
      "execution_count": null,
      "id": "603e95ba",
      "metadata": {
        "id": "603e95ba",
        "outputId": "9bd62810-ca75-4da7-e2e5-730272267f86"
      },
      "outputs": [
        {
          "data": {
            "text/plain": [
              "['Vice',\n",
              " 'President',\n",
              " 'Johnson',\n",
              " ',',\n",
              " 'Mr',\n",
              " '.',\n",
              " 'Speaker',\n",
              " ',',\n",
              " 'Mr',\n",
              " '.',\n",
              " 'Chief',\n",
              " 'Justice',\n",
              " ',',\n",
              " 'President',\n",
              " 'Eisenhower',\n",
              " ',',\n",
              " 'Vice',\n",
              " 'President',\n",
              " 'Nixon',\n",
              " ',',\n",
              " 'President',\n",
              " 'Truman',\n",
              " ',',\n",
              " 'reverend',\n",
              " 'clergy',\n",
              " ',',\n",
              " 'fellow',\n",
              " 'citizens',\n",
              " ',',\n",
              " 'we',\n",
              " 'observe',\n",
              " 'today',\n",
              " 'not',\n",
              " 'a',\n",
              " 'victory',\n",
              " 'of',\n",
              " 'party',\n",
              " ',',\n",
              " 'but',\n",
              " 'a',\n",
              " 'celebration',\n",
              " 'of',\n",
              " 'freedom',\n",
              " '--',\n",
              " 'symbolizing',\n",
              " 'an',\n",
              " 'end',\n",
              " ',',\n",
              " 'as',\n",
              " 'well',\n",
              " 'as',\n",
              " 'a',\n",
              " 'beginning',\n",
              " '--',\n",
              " 'signifying',\n",
              " 'renewal',\n",
              " ',',\n",
              " 'as',\n",
              " 'well',\n",
              " 'as',\n",
              " 'change',\n",
              " '.',\n",
              " 'For',\n",
              " 'I',\n",
              " 'have',\n",
              " 'sworn',\n",
              " 'I',\n",
              " 'before',\n",
              " 'you',\n",
              " 'and']"
            ]
          },
          "execution_count": 10,
          "metadata": {},
          "output_type": "execute_result"
        }
      ],
      "source": [
        "inaugural.words(fileids= '1961-Kennedy.txt')[:70]"
      ]
    },
    {
      "cell_type": "code",
      "execution_count": null,
      "id": "33cd6e8e",
      "metadata": {
        "id": "33cd6e8e",
        "outputId": "0167b06c-a6d8-4b38-8d92-bde5f73efce8"
      },
      "outputs": [
        {
          "data": {
            "text/plain": [
              "['My',\n",
              " 'fellow',\n",
              " 'citizens',\n",
              " ':',\n",
              " 'I',\n",
              " 'stand',\n",
              " 'here',\n",
              " 'today',\n",
              " 'humbled',\n",
              " 'by',\n",
              " 'the',\n",
              " 'task',\n",
              " 'before',\n",
              " 'us',\n",
              " ',',\n",
              " 'grateful',\n",
              " 'for',\n",
              " 'the',\n",
              " 'trust',\n",
              " 'you',\n",
              " 'have',\n",
              " 'bestowed',\n",
              " ',',\n",
              " 'mindful',\n",
              " 'of',\n",
              " 'the',\n",
              " 'sacrifices',\n",
              " 'borne',\n",
              " 'by',\n",
              " 'our',\n",
              " 'ancestors',\n",
              " '.',\n",
              " 'I',\n",
              " 'thank',\n",
              " 'President',\n",
              " 'Bush',\n",
              " 'for',\n",
              " 'his',\n",
              " 'service',\n",
              " 'to',\n",
              " 'our',\n",
              " 'nation',\n",
              " ',',\n",
              " 'as',\n",
              " 'well',\n",
              " 'as',\n",
              " 'the',\n",
              " 'generosity',\n",
              " 'and',\n",
              " 'cooperation',\n",
              " 'he',\n",
              " 'has',\n",
              " 'shown',\n",
              " 'throughout',\n",
              " 'this',\n",
              " 'transition',\n",
              " '.',\n",
              " 'Forty',\n",
              " '-',\n",
              " 'four',\n",
              " 'Americans',\n",
              " 'have',\n",
              " 'now',\n",
              " 'taken',\n",
              " 'the',\n",
              " 'presidential',\n",
              " 'oath',\n",
              " '.',\n",
              " 'The',\n",
              " 'words',\n",
              " 'have',\n",
              " 'been',\n",
              " 'spoken',\n",
              " 'during',\n",
              " 'rising',\n",
              " 'tides',\n",
              " 'of',\n",
              " 'prosperity',\n",
              " 'and',\n",
              " 'the',\n",
              " 'still',\n",
              " 'waters',\n",
              " 'of',\n",
              " 'peace',\n",
              " '.',\n",
              " 'Yet',\n",
              " ',',\n",
              " 'every',\n",
              " 'so',\n",
              " 'often',\n",
              " 'the',\n",
              " 'oath',\n",
              " 'is',\n",
              " 'taken',\n",
              " 'amidst',\n",
              " 'gathering',\n",
              " 'clouds',\n",
              " 'and',\n",
              " 'raging',\n",
              " 'storms',\n",
              " '.',\n",
              " 'At',\n",
              " 'these',\n",
              " 'moments',\n",
              " ',',\n",
              " 'America',\n",
              " 'has',\n",
              " 'carried',\n",
              " 'on',\n",
              " 'not',\n",
              " 'simply',\n",
              " 'because',\n",
              " 'of',\n",
              " 'the',\n",
              " 'skill',\n",
              " 'or',\n",
              " 'vision',\n",
              " 'of',\n",
              " 'those',\n",
              " 'in']"
            ]
          },
          "execution_count": 12,
          "metadata": {},
          "output_type": "execute_result"
        }
      ],
      "source": [
        "inaugural.words(fileids= '2009-Obama.txt')[:120]"
      ]
    },
    {
      "cell_type": "code",
      "execution_count": null,
      "id": "113171e5",
      "metadata": {
        "id": "113171e5"
      },
      "outputs": [],
      "source": [
        "text1='India is a very beautiful and a very pretty county. India is so rich in its culture and heritage. '"
      ]
    },
    {
      "cell_type": "code",
      "execution_count": null,
      "id": "29c0e4e3",
      "metadata": {
        "id": "29c0e4e3"
      },
      "outputs": [],
      "source": [
        "#text1.split()"
      ]
    },
    {
      "cell_type": "code",
      "execution_count": null,
      "id": "615dd715",
      "metadata": {
        "id": "615dd715"
      },
      "outputs": [],
      "source": [
        "import nltk"
      ]
    },
    {
      "cell_type": "code",
      "execution_count": null,
      "id": "0a9d9632",
      "metadata": {
        "id": "0a9d9632"
      },
      "outputs": [],
      "source": [
        "fd=nltk.FreqDist(text1.split())"
      ]
    },
    {
      "cell_type": "code",
      "execution_count": null,
      "id": "0ea1e114",
      "metadata": {
        "id": "0ea1e114",
        "outputId": "e6d0f3ea-a062-455a-ee9b-54a18c831bb6"
      },
      "outputs": [
        {
          "data": {
            "text/plain": [
              "FreqDist({'India': 2, 'is': 2, 'a': 2, 'very': 2, 'and': 2, 'beautiful': 1, 'pretty': 1, 'county.': 1, 'so': 1, 'rich': 1, ...})"
            ]
          },
          "execution_count": 17,
          "metadata": {},
          "output_type": "execute_result"
        }
      ],
      "source": [
        "fd"
      ]
    },
    {
      "cell_type": "code",
      "execution_count": null,
      "id": "bc1221b4",
      "metadata": {
        "id": "bc1221b4"
      },
      "outputs": [],
      "source": []
    }
  ],
  "metadata": {
    "kernelspec": {
      "display_name": "Python 3 (ipykernel)",
      "language": "python",
      "name": "python3"
    },
    "language_info": {
      "codemirror_mode": {
        "name": "ipython",
        "version": 3
      },
      "file_extension": ".py",
      "mimetype": "text/x-python",
      "name": "python",
      "nbconvert_exporter": "python",
      "pygments_lexer": "ipython3",
      "version": "3.9.13"
    },
    "colab": {
      "provenance": []
    }
  },
  "nbformat": 4,
  "nbformat_minor": 5
}