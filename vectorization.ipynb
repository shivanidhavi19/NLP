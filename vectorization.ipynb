{
  "cells": [
    {
      "cell_type": "code",
      "execution_count": null,
      "id": "2479943d",
      "metadata": {
        "id": "2479943d"
      },
      "outputs": [],
      "source": [
        "from sklearn.feature_extraction.text import CountVectorizer\n",
        "vect = CountVectorizer(binary = True)"
      ]
    },
    {
      "cell_type": "code",
      "execution_count": null,
      "id": "37b3e782",
      "metadata": {
        "id": "37b3e782"
      },
      "outputs": [],
      "source": [
        "corpus = [\"The Mercedes which picks me up from the Delhi airport feels exorbitant. The bottom of my jeans is beginning to tear and the flight has crumpled my shirt. Walking into the marble lobby of the Oberoi, New Delhi, I feel typically discrepant, but the welcome I receive is warm. I think I even recognise the doorman. His smile is intimate; his greeting, familiar. I have been here before. No, I am not an impostor.\",\"Interrupted only by two months of torrential downpour, Bombay suffers valiantly its 300 days of summer. Usually dripping with either rain or sweat, we certainly know what it is like to be drenched. Weather doesn’t make for good banter here. Like bad conversation, our seasons too are made of monosyllables. Parts of the country might have it marginally better, but let’s face it—as a whole, we Indians sadly need to be privileged to enjoy summer. We need to be able to turn on our air conditioners.\",\"Depending on their destiny, adventurers are either fools or heroes of their stories. I have no illusions as to which one I am. In my writings elsewhere, I have professed as much, admitting to more folly than valour. I storm in when caution is called for, swing big and miss bigger. But even during my most colossal missteps, I never lack chutzpah. In a more reflective light, my bravado is as entertaining as it is sobering.\"]"
      ]
    },
    {
      "cell_type": "code",
      "execution_count": null,
      "id": "fd739eb2",
      "metadata": {
        "id": "fd739eb2",
        "outputId": "95490917-e7bb-4f85-d34f-06e2e7342142"
      },
      "outputs": [
        {
          "data": {
            "text/plain": [
              "CountVectorizer(binary=True)"
            ]
          },
          "execution_count": 27,
          "metadata": {},
          "output_type": "execute_result"
        }
      ],
      "source": [
        "vect.fit(corpus)"
      ]
    },
    {
      "cell_type": "code",
      "execution_count": null,
      "id": "eabfeac2",
      "metadata": {
        "id": "eabfeac2"
      },
      "outputs": [],
      "source": [
        "vocab = vect.vocabulary_"
      ]
    },
    {
      "cell_type": "code",
      "execution_count": null,
      "id": "084e4617",
      "metadata": {
        "id": "084e4617",
        "outputId": "f8372d48-c2e4-4f4b-e9c9-ffb1e9da6207"
      },
      "outputs": [
        {
          "name": "stdout",
          "output_type": "stream",
          "text": [
            "the:132\n",
            "mercedes:89\n",
            "which:152\n",
            "picks:112\n",
            "me:88\n",
            "up:141\n",
            "from:59\n",
            "delhi:35\n",
            "airport:5\n",
            "feels:54\n",
            "exorbitant:50\n",
            "bottom:21\n",
            "of:105\n",
            "my:98\n",
            "jeans:77\n",
            "is:74\n",
            "beginning:16\n",
            "to:135\n",
            "tear:130\n",
            "and:8\n",
            "flight:55\n",
            "has:62\n",
            "crumpled:33\n",
            "shirt:121\n",
            "walking:145\n",
            "into:73\n",
            "marble:86\n",
            "lobby:83\n",
            "oberoi:104\n",
            "new:101\n",
            "feel:53\n",
            "typically:140\n",
            "discrepant:38\n",
            "but:23\n",
            "welcome:149\n",
            "receive:116\n",
            "warm:146\n",
            "think:134\n",
            "even:49\n",
            "recognise:117\n",
            "doorman:40\n",
            "his:66\n",
            "smile:122\n",
            "intimate:72\n",
            "greeting:61\n",
            "familiar:52\n",
            "have:63\n",
            "been:14\n",
            "here:64\n",
            "before:15\n",
            "no:102\n",
            "am:6\n",
            "not:103\n",
            "an:7\n",
            "impostor:68\n",
            "interrupted:71\n",
            "only:108\n",
            "by:24\n",
            "two:139\n",
            "months:94\n",
            "torrential:137\n",
            "downpour:41\n",
            "bombay:20\n",
            "suffers:126\n",
            "valiantly:143\n",
            "its:76\n",
            "300:0\n",
            "days:34\n",
            "summer:127\n",
            "usually:142\n",
            "dripping:43\n",
            "with:154\n",
            "either:45\n",
            "rain:115\n",
            "or:109\n",
            "sweat:128\n",
            "we:147\n",
            "certainly:27\n",
            "know:78\n",
            "what:150\n",
            "it:75\n",
            "like:82\n",
            "be:13\n",
            "drenched:42\n",
            "weather:148\n",
            "doesn:39\n",
            "make:85\n",
            "for:58\n",
            "good:60\n",
            "banter:12\n",
            "bad:11\n",
            "conversation:31\n",
            "our:110\n",
            "seasons:120\n",
            "too:136\n",
            "are:9\n",
            "made:84\n",
            "monosyllables:93\n",
            "parts:111\n",
            "country:32\n",
            "might:90\n",
            "marginally:87\n",
            "better:17\n",
            "let:80\n",
            "face:51\n",
            "as:10\n",
            "whole:153\n",
            "indians:70\n",
            "sadly:119\n",
            "need:99\n",
            "privileged:113\n",
            "enjoy:47\n",
            "able:1\n",
            "turn:138\n",
            "on:106\n",
            "air:4\n",
            "conditioners:30\n",
            "depending:36\n",
            "their:133\n",
            "destiny:37\n",
            "adventurers:3\n",
            "fools:57\n",
            "heroes:65\n",
            "stories:124\n",
            "illusions:67\n",
            "one:107\n",
            "in:69\n",
            "writings:155\n",
            "elsewhere:46\n",
            "professed:114\n",
            "much:97\n",
            "admitting:2\n",
            "more:95\n",
            "folly:56\n",
            "than:131\n",
            "valour:144\n",
            "storm:125\n",
            "when:151\n",
            "caution:26\n",
            "called:25\n",
            "swing:129\n",
            "big:18\n",
            "miss:91\n",
            "bigger:19\n",
            "during:44\n",
            "most:96\n",
            "colossal:29\n",
            "missteps:92\n",
            "never:100\n",
            "lack:79\n",
            "chutzpah:28\n",
            "reflective:118\n",
            "light:81\n",
            "bravado:22\n",
            "entertaining:48\n",
            "sobering:123\n"
          ]
        }
      ],
      "source": [
        "for key in vocab.keys():\n",
        "    print(\"{}:{}\".format(key,vocab[key]))"
      ]
    },
    {
      "cell_type": "code",
      "execution_count": null,
      "id": "c4f06c43",
      "metadata": {
        "id": "c4f06c43",
        "outputId": "ddd99f97-f2ba-418d-b6bc-e9672e15ce9c"
      },
      "outputs": [
        {
          "name": "stdout",
          "output_type": "stream",
          "text": [
            "[[0 0 0 0 0 1 1 1 1 0 0 0 0 0 1 1 1 0 0 0 0 1 0 1 0 0 0 0 0 0 0 0 0 1 0 1\n",
            "  0 0 1 0 1 0 0 0 0 0 0 0 0 1 1 0 1 1 1 1 0 0 0 1 0 1 1 1 1 0 1 0 1 0 0 0\n",
            "  1 1 1 0 0 1 0 0 0 0 0 1 0 0 1 0 1 1 0 0 0 0 0 0 0 0 1 0 0 1 1 1 1 1 0 0\n",
            "  0 0 0 0 1 0 0 0 1 1 0 0 0 1 1 0 0 0 0 0 0 0 1 0 1 0 1 1 0 0 0 0 1 1 0 0\n",
            "  0 1 1 0 0 1 0 0 1 0 0 0]]\n"
          ]
        }
      ],
      "source": [
        "print(vect.transform([\"The Mercedes which picks me up from the Delhi airport feels exorbitant. The bottom of my jeans is beginning to tear and the flight has crumpled my shirt. Walking into the marble lobby of the Oberoi, New Delhi, I feel typically discrepant, but the welcome I receive is warm. I think I even recognise the doorman. His smile is intimate; his greeting, familiar. I have been here before. No, I am not an impostor.\"]).toarray())"
      ]
    },
    {
      "cell_type": "code",
      "execution_count": null,
      "id": "ef370b30",
      "metadata": {
        "id": "ef370b30"
      },
      "outputs": [],
      "source": [
        "from sklearn.metrics.pairwise import cosine_similarity\n",
        "similarity=cosine_similarity(vect.transform([\"Interrupted only by two months of torrential downpour, Bombay suffers valiantly its 300 days of summer. Usually dripping with either rain or sweat, we certainly know what it is like to be drenched. Weather doesn’t make for good banter here. Like bad conversation, our seasons too are made of monosyllables. Parts of the country might have it marginally better, but let’s face it—as a whole, we Indians sadly need to be privileged to enjoy summer. We need to be able to turn on our air conditioners.\"]).toarray(),vect.transform([\"The Mercedes which picks me up from the Delhi airport feels exorbitant. The bottom of my jeans is beginning to tear and the flight has crumpled my shirt. Walking into the marble lobby of the Oberoi, New Delhi, I feel typically discrepant, but the welcome I receive is warm. I think I even recognise the doorman. His smile is intimate; his greeting, familiar. I have been here before. No, I am not an impostor.\"]).toarray())"
      ]
    },
    {
      "cell_type": "code",
      "execution_count": null,
      "id": "68442317",
      "metadata": {
        "id": "68442317",
        "outputId": "1e4875b0-5b14-49e5-a10c-ce8ad9aaedf4"
      },
      "outputs": [
        {
          "name": "stdout",
          "output_type": "stream",
          "text": [
            "[[0.11362978]]\n"
          ]
        }
      ],
      "source": [
        "print(similarity)"
      ]
    },
    {
      "cell_type": "code",
      "execution_count": null,
      "id": "5fcb8503",
      "metadata": {
        "id": "5fcb8503"
      },
      "outputs": [],
      "source": []
    },
    {
      "cell_type": "code",
      "execution_count": null,
      "id": "45f80601",
      "metadata": {
        "id": "45f80601"
      },
      "outputs": [],
      "source": []
    }
  ],
  "metadata": {
    "kernelspec": {
      "display_name": "Python 3 (ipykernel)",
      "language": "python",
      "name": "python3"
    },
    "language_info": {
      "codemirror_mode": {
        "name": "ipython",
        "version": 3
      },
      "file_extension": ".py",
      "mimetype": "text/x-python",
      "name": "python",
      "nbconvert_exporter": "python",
      "pygments_lexer": "ipython3",
      "version": "3.9.13"
    },
    "colab": {
      "provenance": []
    }
  },
  "nbformat": 4,
  "nbformat_minor": 5
}